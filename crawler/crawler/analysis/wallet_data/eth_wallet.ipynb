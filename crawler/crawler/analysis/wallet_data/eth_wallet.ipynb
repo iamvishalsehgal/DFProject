{
 "cells": [
  {
   "cell_type": "code",
   "execution_count": 1,
   "metadata": {},
   "outputs": [
    {
     "name": "stderr",
     "output_type": "stream",
     "text": [
      "/Users/vishalsehgal/Library/Python/3.9/lib/python/site-packages/urllib3/__init__.py:35: NotOpenSSLWarning: urllib3 v2 only supports OpenSSL 1.1.1+, currently the 'ssl' module is compiled with 'LibreSSL 2.8.3'. See: https://github.com/urllib3/urllib3/issues/3020\n",
      "  warnings.warn(\n"
     ]
    }
   ],
   "source": [
    "import warnings\n",
    "from urllib3.exceptions import NotOpenSSLWarning\n",
    "import os\n",
    "import re\n",
    "import pandas as pd\n",
    "import time\n",
    "import requests\n",
    "import networkx as nx\n",
    "import plotly.graph_objects as go\n",
    "import plotly.express as px\n",
    "from dash import Dash, dcc, html, Input, Output\n"
   ]
  },
  {
   "cell_type": "code",
   "execution_count": 2,
   "metadata": {},
   "outputs": [
    {
     "name": "stdout",
     "output_type": "stream",
     "text": [
      "Loading data from /Users/vishalsehgal/Documents/Masters/Data Forensics/DFProject-1/crawler/crawler/analysis/wallet_data/combined_wallets_data.csv\n",
      "Data loaded. Shape: (19, 29)\n"
     ]
    }
   ],
   "source": [
    "\n",
    "warnings.simplefilter('ignore', NotOpenSSLWarning)\n",
    "\n",
    "# Function to identify Ethereum addresses\n",
    "def is_ethereum_address(address):\n",
    "    if pd.isna(address) or not isinstance(address, str):\n",
    "        return False\n",
    "    return re.match(r'^0x[a-fA-F0-9]{40}$', address) is not None\n",
    "\n",
    "# Load the combined wallets data\n",
    "combined_wallets_data_path = \"/Users/vishalsehgal/Documents/Masters/Data Forensics/DFProject-1/crawler/crawler/analysis/wallet_data/combined_wallets_data.csv\"\n",
    "print(f\"Loading data from {combined_wallets_data_path}\")\n",
    "data = pd.read_csv(combined_wallets_data_path)\n",
    "print(f\"Data loaded. Shape: {data.shape}\")\n"
   ]
  },
  {
   "cell_type": "code",
   "execution_count": 3,
   "metadata": {},
   "outputs": [
    {
     "name": "stdout",
     "output_type": "stream",
     "text": [
      "Ethereum address columns identified: ['BEP20', 'KCC', 'ERC20', 'AVAX', 'MATIC', 'Arbitrum', 'Network', 'One', 'zkSync', 'Linea', 'OP', 'Matic']\n",
      "Unique Ethereum addresses found: 10\n"
     ]
    }
   ],
   "source": [
    "\n",
    "# Check each column for Ethereum addresses\n",
    "eth_addresses = {}\n",
    "\n",
    "for column in data.columns[1:]:  # Skip the first column which is 'url'\n",
    "    eth_addresses[column] = data[column].apply(is_ethereum_address)\n",
    "\n",
    "# Summarize the results\n",
    "eth_summary = pd.DataFrame(eth_addresses).sum()\n",
    "eth_summary = eth_summary[eth_summary > 0]\n",
    "print(f\"Ethereum address columns identified: {list(eth_summary.index)}\")\n",
    "\n",
    "# Extract unique Ethereum addresses\n",
    "eth_columns = eth_summary.index.tolist()\n",
    "eth_data = data[eth_columns]\n",
    "\n",
    "# Melt the dataframe to have a long format for easier processing\n",
    "eth_addresses_long = eth_data.melt(var_name='address_type', value_name='address')\n",
    "eth_addresses_long = eth_addresses_long.dropna(subset=['address'])\n",
    "\n",
    "# Filter for unique addresses\n",
    "unique_eth_addresses = eth_addresses_long['address'].unique()\n",
    "print(f\"Unique Ethereum addresses found: {len(unique_eth_addresses)}\")\n"
   ]
  },
  {
   "cell_type": "code",
   "execution_count": 4,
   "metadata": {},
   "outputs": [],
   "source": [
    "\n",
    "# Function to fetch transactions for multiple addresses\n",
    "def fetch_transactions(address, api_key):\n",
    "    url = f\"https://api.etherscan.io/api?module=account&action=txlist&address={address}&startblock=0&endblock=99999999&sort=asc&apikey={api_key}\"\n",
    "    response = requests.get(url)\n",
    "    data = response.json()\n",
    "    if data['status'] == '1':\n",
    "        return data['result']\n",
    "    else:\n",
    "        return []\n",
    "\n",
    "def fetch_all_transactions(addresses, api_key):\n",
    "    all_transactions = []\n",
    "    for address in addresses:\n",
    "        transactions = fetch_transactions(address, api_key)\n",
    "        for tx in transactions:\n",
    "            tx['address_type'] = address\n",
    "        all_transactions.extend(transactions)\n",
    "        time.sleep(0.2)  # To respect API rate limits\n",
    "    return all_transactions\n"
   ]
  },
  {
   "cell_type": "code",
   "execution_count": 5,
   "metadata": {},
   "outputs": [
    {
     "name": "stdout",
     "output_type": "stream",
     "text": [
      "Fetching transactions...\n",
      "Transactions fetched. Total transactions: 1151\n",
      "Transactions DataFrame created. Shape: (1151, 21)\n"
     ]
    }
   ],
   "source": [
    "\n",
    "# Fetch transactions for identified Ethereum addresses\n",
    "api_key = 'DMY3T9QQP87HIWS29EAFWMW6RVYPZYIHRG'\n",
    "print(\"Fetching transactions...\")\n",
    "all_transactions = fetch_all_transactions(unique_eth_addresses, api_key)  # Fetch all transactions\n",
    "print(f\"Transactions fetched. Total transactions: {len(all_transactions)}\")\n",
    "\n",
    "# Convert to DataFrame\n",
    "transactions_df = pd.DataFrame(all_transactions)\n",
    "print(f\"Transactions DataFrame created. Shape: {transactions_df.shape}\")\n"
   ]
  },
  {
   "cell_type": "code",
   "execution_count": 6,
   "metadata": {},
   "outputs": [
    {
     "name": "stdout",
     "output_type": "stream",
     "text": [
      "Edges processed. Total edges: 98\n"
     ]
    }
   ],
   "source": [
    "\n",
    "# Process transactions into edges and count transactions\n",
    "def process_transactions(transactions):\n",
    "    edges = []\n",
    "    tx_counts = {}\n",
    "    tx_amounts = {}\n",
    "    for tx in transactions:\n",
    "        sender = tx['from']\n",
    "        receiver = tx['to']\n",
    "        value = int(tx['value']) / 10**18  # Convert Wei to Ether\n",
    "        if value >= 0.1:  # Only process transactions with value greater than or equal to 0.1 ETH\n",
    "            edges.append((sender, receiver, value, tx['hash'], tx['blockNumber'], tx['timeStamp']))\n",
    "            if sender not in tx_counts:\n",
    "                tx_counts[sender] = 0\n",
    "                tx_amounts[sender] = 0\n",
    "            tx_counts[sender] += 1\n",
    "            tx_amounts[sender] += value\n",
    "    return edges, tx_counts, tx_amounts\n",
    "\n",
    "edges, tx_counts, tx_amounts = process_transactions(all_transactions)  # Process all transactions\n",
    "print(f\"Edges processed. Total edges: {len(edges)}\")\n"
   ]
  },
  {
   "cell_type": "code",
   "execution_count": 7,
   "metadata": {},
   "outputs": [
    {
     "name": "stdout",
     "output_type": "stream",
     "text": [
      "Transaction counts and total amounts for each wallet (sorted by total amount):\n",
      "Address: 0xfe69c92ad05ce854029af0a26022d360830381cb, Transactions: 54, Total Amount: 19.25 ETH\n",
      "Address: 0xd24400ae8bfebb18ca49be86258a3c749cf46853, Transactions: 3, Total Amount: 4.25 ETH\n",
      "Address: 0x6e14ebeb24e4a3cb0d39f7b88e39ff435e7d8760, Transactions: 1, Total Amount: 2.25 ETH\n",
      "Address: 0x0c69ac239f21bb6380ba6a07120af51cc26c9d88, Transactions: 3, Total Amount: 2.21 ETH\n",
      "Address: 0x4bb8cdb74cb3e97ea70520e92cbd46a9594837f2, Transactions: 1, Total Amount: 1.71 ETH\n",
      "Address: 0xc5c61a1ea535c5b783a81dea6508dbfe262ad6b6, Transactions: 1, Total Amount: 1.65 ETH\n",
      "Address: 0xddfabcdc4d8ffc6d5beaf154f18b778f892a0740, Transactions: 1, Total Amount: 0.82 ETH\n",
      "Address: 0xe76aa51e9d73dfd715c202de8fd21f3431a65216, Transactions: 1, Total Amount: 0.67 ETH\n",
      "Address: 0x9bd633da262128b96ca876185239c368fe0e9125, Transactions: 1, Total Amount: 0.63 ETH\n",
      "Address: 0x572bb57c80672c761bed563a1771f8fb380a317b, Transactions: 1, Total Amount: 0.52 ETH\n",
      "Address: 0x2b228d08e4c609aa610a489f9133263b2a7f8669, Transactions: 1, Total Amount: 0.47 ETH\n",
      "Address: 0x649485fd2ef993b3c9c64f94f66def0b2c725397, Transactions: 1, Total Amount: 0.47 ETH\n",
      "Address: 0xa063169a51e1fc37267000f0975dfe0ab2f3e518, Transactions: 1, Total Amount: 0.46 ETH\n",
      "Address: 0xf346bf8be70f384813f5d141d466451d20841df2, Transactions: 2, Total Amount: 0.41 ETH\n",
      "Address: 0x39db7779df193d65176462f1fbc14011c18c59e9, Transactions: 1, Total Amount: 0.35 ETH\n",
      "Address: 0x4240781a9ebdb2eb14a183466e8820978b7da4e2, Transactions: 1, Total Amount: 0.32 ETH\n",
      "Address: 0x6d0c08327626042dde0614367d760b3a50f21dcc, Transactions: 1, Total Amount: 0.31 ETH\n",
      "Address: 0xd6bc6f6079c930d756a7659bdf01a09b815b4465, Transactions: 1, Total Amount: 0.30 ETH\n",
      "Address: 0x25cc5677c82453ea26642f7a3f733c6006c31011, Transactions: 2, Total Amount: 0.25 ETH\n",
      "Address: 0xb01cb49fe0d6d6e47edf3a072d15dfe73155331c, Transactions: 1, Total Amount: 0.25 ETH\n",
      "Address: 0xe53cba17c976010222bed17d5a913efe7f5b1f7a, Transactions: 1, Total Amount: 0.24 ETH\n",
      "Address: 0x267be1c1d684f78cb4f6a176c4911b741e4ffdc0, Transactions: 1, Total Amount: 0.23 ETH\n",
      "Address: 0xb31f0a83457db8fcd08154247e0d19daca0047e1, Transactions: 1, Total Amount: 0.23 ETH\n",
      "Address: 0xf241aad9556cd6bad2a876a2d3c986ecd642877a, Transactions: 1, Total Amount: 0.22 ETH\n",
      "Address: 0xc0d5445b157bdccca8a3ffe6761925cf9fc97df7, Transactions: 1, Total Amount: 0.21 ETH\n",
      "Address: 0x61457e405f9237391fd563c0056fbc30a1cd80ef, Transactions: 1, Total Amount: 0.20 ETH\n",
      "Address: 0xb386e92acf9279cebb13389811c22b77cc649bd6, Transactions: 1, Total Amount: 0.20 ETH\n",
      "Address: 0x71e5da600f99902f723f9fdb38d4896def055f55, Transactions: 1, Total Amount: 0.19 ETH\n",
      "Address: 0xe06728a2db1b5c992ade56fde4fe032e62ed94cb, Transactions: 1, Total Amount: 0.18 ETH\n",
      "Address: 0x0b77da423473e8aaa4c34f6bec1d09b41cf643ce, Transactions: 1, Total Amount: 0.14 ETH\n",
      "Address: 0x5ec8302dac16016de8f344f955971a470cac98d8, Transactions: 1, Total Amount: 0.14 ETH\n",
      "Address: 0x78de36e8bb9e3ef20b6ca0f6a766027f2adede1a, Transactions: 1, Total Amount: 0.14 ETH\n",
      "Address: 0xd11aae77b1695fdd241dc36ad5e5b9d9541d8d7e, Transactions: 1, Total Amount: 0.13 ETH\n",
      "Address: 0x89cf426147071e31e7d4cd7338e2438eca126f99, Transactions: 1, Total Amount: 0.13 ETH\n",
      "Address: 0x7e8ee98b75d536d61a0fea3a013a60de6da855d8, Transactions: 1, Total Amount: 0.12 ETH\n",
      "Address: 0x311f1487c6533f625dec619e969d2ee260975d73, Transactions: 1, Total Amount: 0.11 ETH\n",
      "Address: 0x3f49ed3efcbba82ede73d919509d8ec460067041, Transactions: 1, Total Amount: 0.11 ETH\n",
      "Address: 0xfd5c297cfa3b98b3b2ade124fb8302875e57d086, Transactions: 1, Total Amount: 0.10 ETH\n",
      "Address: 0x3a290e15d9ac40b9686d5fce1517e0189cb3add1, Transactions: 1, Total Amount: 0.10 ETH\n"
     ]
    }
   ],
   "source": [
    "\n",
    "# Filter out wallets with total amount < 0.1 ETH\n",
    "filtered_tx_counts = {k: v for k, v in tx_counts.items() if tx_amounts[k] >= 0.1}\n",
    "filtered_tx_amounts = {k: v for k, v in tx_amounts.items() if v >= 0.1}\n",
    "\n",
    "# Sort transaction amounts in descending order\n",
    "sorted_tx_amounts = dict(sorted(filtered_tx_amounts.items(), key=lambda item: item[1], reverse=True))\n",
    "\n",
    "# Print transaction counts and total amounts\n",
    "print(\"Transaction counts and total amounts for each wallet (sorted by total amount):\")\n",
    "for address in sorted_tx_amounts:\n",
    "    print(f\"Address: {address}, Transactions: {filtered_tx_counts[address]}, Total Amount: {sorted_tx_amounts[address]:.2f} ETH\")\n"
   ]
  },
  {
   "cell_type": "code",
   "execution_count": 8,
   "metadata": {},
   "outputs": [],
   "source": [
    "\n",
    "# Create a NetworkX graph\n",
    "G = nx.DiGraph()\n",
    "\n",
    "for edge in edges:\n",
    "    if edge[0] in filtered_tx_counts and edge[1] in filtered_tx_counts:  # Only add edges where both sender and receiver have non-zero transactions\n",
    "        G.add_edge(edge[0], edge[1], weight=edge[2], hash=edge[3], block=edge[4], time=edge[5])\n",
    "\n",
    "# Calculate network metrics\n",
    "degree_dict = dict(G.degree(G.nodes()))\n",
    "betweenness_dict = nx.betweenness_centrality(G)\n",
    "closeness_dict = nx.closeness_centrality(G)\n"
   ]
  },
  {
   "cell_type": "code",
   "execution_count": 9,
   "metadata": {},
   "outputs": [
    {
     "name": "stderr",
     "output_type": "stream",
     "text": [
      "/var/folders/hd/p1cpt0jj6z5_ngrvf3vvz4tr0000gn/T/ipykernel_68115/2489897589.py:69: FutureWarning: The behavior of 'to_datetime' with 'unit' when parsing strings is deprecated. In a future version, strings will be parsed as datetime strings, matching the behavior without a 'unit'. To retain the old behavior, explicitly cast ints or floats to numeric type before calling to_datetime.\n",
      "  transactions_df['timeStamp'] = pd.to_datetime(transactions_df['timeStamp'], unit='s')\n"
     ]
    }
   ],
   "source": [
    "\n",
    "# Generate positions for nodes\n",
    "pos = nx.spring_layout(G, k=0.1)\n",
    "\n",
    "# Create edge trace with annotations for arrows\n",
    "edge_trace = []\n",
    "annotations = []\n",
    "\n",
    "for edge in G.edges(data=True):\n",
    "    x0, y0 = pos[edge[0]]\n",
    "    x1, y1 = pos[edge[1]]\n",
    "    weight = edge[2]['weight']\n",
    "    edge_trace.append(\n",
    "        go.Scatter(\n",
    "            x=[x0, x1, None],\n",
    "            y=[y0, y1, None],\n",
    "            line=dict(width=2, color='#888'),\n",
    "            hoverinfo='text',\n",
    "            text=f'{edge[0]} -> {edge[1]}: {weight:.2f} ETH',\n",
    "            mode='lines'\n",
    "        )\n",
    "    )\n",
    "    annotations.append(\n",
    "        dict(\n",
    "            ax=x0, ay=y0, axref='x', ayref='y',\n",
    "            x=x1, y=y1, xref='x', yref='y',\n",
    "            showarrow=True, arrowhead=3, arrowsize=1, arrowwidth=1, arrowcolor='#888'\n",
    "        )\n",
    "    )\n",
    "\n",
    "# Create node trace\n",
    "node_trace = go.Scatter(\n",
    "    x=[],\n",
    "    y=[],\n",
    "    text=[],\n",
    "    mode='markers+text',\n",
    "    textposition=\"top center\",\n",
    "    hoverinfo='text',\n",
    "    marker=dict(\n",
    "        showscale=True,\n",
    "        colorscale='YlGnBu',\n",
    "        color=[],\n",
    "        size=20,\n",
    "        colorbar=dict(\n",
    "            thickness=15,\n",
    "            title='Node Connections',\n",
    "            xanchor='left',\n",
    "            titleside='right'\n",
    "        ),\n",
    "        line=dict(width=2, color='#333')\n",
    "    )\n",
    ")\n",
    "\n",
    "# Add node positions and labels\n",
    "for node in G.nodes():\n",
    "    if node in filtered_tx_counts:  # Only add nodes that have transactions greater than or equal to 0.1 ETH\n",
    "        x, y = pos[node]\n",
    "        node_trace['x'] += (x,)\n",
    "        node_trace['y'] += (y,)\n",
    "        tx_count = filtered_tx_counts.get(node, 0)\n",
    "        tx_amount = sorted_tx_amounts.get(node, 0)\n",
    "        incoming_tx = sum([1 for u, v, d in G.in_edges(node, data=True) if d['weight'] >= 0.1])\n",
    "        outgoing_tx = sum([1 for u, v, d in G.out_edges(node, data=True) if d['weight'] >= 0.1])\n",
    "        node_trace['text'] += (f'{node}\\nTransactions: {tx_count}\\nTotal Amount: {tx_amount:.2f} ETH\\n'\n",
    "                               f'Incoming: {incoming_tx}\\nOutgoing: {outgoing_tx}',)\n",
    "        # Node color represents the number of connections (degree)\n",
    "        node_trace['marker']['color'] += (len(list(G.neighbors(node))),)\n",
    "\n",
    "# Create time series data\n",
    "transactions_df['timeStamp'] = pd.to_datetime(transactions_df['timeStamp'], unit='s')\n",
    "transactions_df = transactions_df[transactions_df['value'].astype(float) >= 0.1 * 10**18]  # Filter transactions >= 0.1 ETH\n",
    "time_series = transactions_df.groupby(transactions_df['timeStamp'].dt.date).size().reset_index(name='counts')\n",
    "\n",
    "# Create time series trace\n",
    "time_series_fig = px.line(time_series, x='timeStamp', y='counts', title='Transactions Over Time')\n",
    "\n",
    "# Create the Plotly figure\n",
    "fig = go.Figure(\n",
    "    data=edge_trace + [node_trace],\n",
    "    layout=go.Layout(\n",
    "        title='<br>Ethereum Network Graph',\n",
    "        titlefont=dict(size=20),\n",
    "        showlegend=False,\n",
    "        hovermode='closest',\n",
    "        margin=dict(b=20, l=5, r=5, t=40),\n",
    "        annotations=annotations,\n",
    "        xaxis=dict(showgrid=False, zeroline=False),\n",
    "        yaxis=dict(showgrid=False, zeroline=False),\n",
    "        clickmode='event+select'\n",
    "    )\n",
    ")\n"
   ]
  },
  {
   "cell_type": "code",
   "execution_count": 10,
   "metadata": {},
   "outputs": [],
   "source": [
    "\n",
    "# Set up Dash app\n",
    "app = Dash(__name__)\n",
    "\n",
    "app.layout = html.Div([\n",
    "    dcc.Graph(id='network-graph', figure=fig),\n",
    "    dcc.Graph(id='time-series', figure=time_series_fig),\n",
    "    html.Div(id='node-info', style={'whiteSpace': 'pre-line', 'marginTop': 20})\n",
    "])\n",
    "\n",
    "@app.callback(\n",
    "    Output('network-graph', 'figure'),\n",
    "    Output('node-info', 'children'),\n",
    "    [Input('network-graph', 'clickData')]\n",
    ")\n",
    "def display_node_info(clickData):\n",
    "    if clickData is None:\n",
    "        return fig, \"Click on a node to see its transaction details.\"\n",
    "    \n",
    "    if 'points' not in clickData or len(clickData['points']) == 0 or 'text' not in clickData['points'][0]:\n",
    "        return fig, \"Click on a node to see its transaction details.\"\n",
    "    \n",
    "    node_id = clickData['points'][0]['text'].split('\\n')[0]\n",
    "    connected_nodes = list(G.successors(node_id)) + list(G.predecessors(node_id))\n",
    "    connected_info = [f\"{node} (Transactions: {filtered_tx_counts.get(node, 0)}, Total Amount: {filtered_tx_amounts.get(node, 0):.2f} ETH)\" for node in connected_nodes]\n",
    "    \n",
    "    node_transactions = [\n",
    "        f\"Hash: {G.edges[edge]['hash']}, Value: {G.edges[edge]['weight']:.2f} ETH, Block: {G.edges[edge]['block']}, Timestamp: {G.edges[edge]['time']}\"\n",
    "        for edge in G.edges(node_id)\n",
    "    ]\n",
    "    \n",
    "    degree = degree_dict.get(node_id, 0)\n",
    "    betweenness = betweenness_dict.get(node_id, 0)\n",
    "    closeness = closeness_dict.get(node_id, 0)\n",
    "    \n",
    "    node_info = (f\"Transactions for {node_id}:\\n\" + \"\\n\".join(node_transactions) +\n",
    "            f\"\\n\\nConnected nodes:\\n\" + \"\\n\".join(connected_info) +\n",
    "            f\"\\n\\nNetwork metrics:\\nDegree: {degree}\\nBetweenness: {betweenness:.4f}\\nCloseness: {closeness:.4f}\")\n",
    "\n",
    "    # Highlight edges connected to the clicked node\n",
    "    highlight_edge_trace = []\n",
    "    highlight_annotations = []\n",
    "    for edge in G.edges(data=True):\n",
    "        x0, y0 = pos[edge[0]]\n",
    "        x1, y1 = pos[edge[1]]\n",
    "        weight = edge[2]['weight']\n",
    "        color = '#ff0000' if edge[0] == node_id or edge[1] == node_id else '#888'\n",
    "        width = 4 if edge[0] == node_id or edge[1] == node_id else 2\n",
    "        highlight_edge_trace.append(\n",
    "            go.Scatter(\n",
    "                x=[x0, x1, None],\n",
    "                y=[y0, y1, None],\n",
    "                line=dict(width=width, color=color),\n",
    "                hoverinfo='text',\n",
    "                text=f'{edge[0]} -> {edge[1]}: {weight:.2f} ETH',\n",
    "                mode='lines'\n",
    "            )\n",
    "        )\n",
    "        if edge[0] == node_id or edge[1] == node_id:\n",
    "            highlight_annotations.append(\n",
    "                dict(\n",
    "                    ax=x0, ay=y0, axref='x', ayref='y',\n",
    "                    x=x1, y=y1, xref='x', yref='y',\n",
    "                    showarrow=True, arrowhead=3, arrowsize=1, arrowwidth=1, arrowcolor=color\n",
    "                )\n",
    "            )\n",
    "\n",
    "    highlight_fig = go.Figure(\n",
    "        data=highlight_edge_trace + [node_trace],\n",
    "        layout=go.Layout(\n",
    "            title='<br>Ethereum Network Graph',\n",
    "            titlefont=dict(size=20),\n",
    "            showlegend=False,\n",
    "            hovermode='closest',\n",
    "            margin=dict(b=20, l=5, r=5, t=40),\n",
    "            annotations=highlight_annotations,\n",
    "            xaxis=dict(showgrid=False, zeroline=False),\n",
    "            yaxis=dict(showgrid=False, zeroline=False),\n",
    "            clickmode='event+select'\n",
    "        )\n",
    "    )\n",
    "\n",
    "    return highlight_fig, node_info\n"
   ]
  },
  {
   "cell_type": "code",
   "execution_count": 11,
   "metadata": {},
   "outputs": [
    {
     "data": {
      "text/html": [
       "\n",
       "        <iframe\n",
       "            width=\"100%\"\n",
       "            height=\"650\"\n",
       "            src=\"http://127.0.0.1:8050/\"\n",
       "            frameborder=\"0\"\n",
       "            allowfullscreen\n",
       "            \n",
       "        ></iframe>\n",
       "        "
      ],
      "text/plain": [
       "<IPython.lib.display.IFrame at 0x1303b48b0>"
      ]
     },
     "metadata": {},
     "output_type": "display_data"
    }
   ],
   "source": [
    "\n",
    "if __name__ == '__main__':\n",
    "    app.run_server(debug=True)\n"
   ]
  }
 ],
 "metadata": {
  "kernelspec": {
   "display_name": "Python 3",
   "language": "python",
   "name": "python3"
  },
  "language_info": {
   "codemirror_mode": {
    "name": "ipython",
    "version": 3
   },
   "file_extension": ".py",
   "mimetype": "text/x-python",
   "name": "python",
   "nbconvert_exporter": "python",
   "pygments_lexer": "ipython3",
   "version": "3.9.6"
  }
 },
 "nbformat": 4,
 "nbformat_minor": 2
}
